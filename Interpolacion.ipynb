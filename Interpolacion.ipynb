{
  "nbformat": 4,
  "nbformat_minor": 0,
  "metadata": {
    "colab": {
      "name": "Interpolacion.ipynb",
      "version": "0.3.2",
      "provenance": [],
      "collapsed_sections": [],
      "include_colab_link": true
    },
    "kernelspec": {
      "name": "python3",
      "display_name": "Python 3"
    }
  },
  "cells": [
    {
      "cell_type": "markdown",
      "metadata": {
        "id": "view-in-github",
        "colab_type": "text"
      },
      "source": [
        "<a href=\"https://colab.research.google.com/github/isamoreo/ProcesamientoDigitalDeImagenes/blob/master/Interpolacion.ipynb\" target=\"_parent\"><img src=\"https://colab.research.google.com/assets/colab-badge.svg\" alt=\"Open In Colab\"/></a>"
      ]
    },
    {
      "cell_type": "code",
      "metadata": {
        "id": "OHvijLhneC4U",
        "colab_type": "code",
        "colab": {
          "base_uri": "https://localhost:8080/",
          "height": 122
        },
        "outputId": "55350557-1c69-4464-e363-78e4447a1a00"
      },
      "source": [
        "from google.colab import drive\n",
        "drive.mount('/content/drive')"
      ],
      "execution_count": 1,
      "outputs": [
        {
          "output_type": "stream",
          "text": [
            "Go to this URL in a browser: https://accounts.google.com/o/oauth2/auth?client_id=947318989803-6bn6qk8qdgf4n4g3pfee6491hc0brc4i.apps.googleusercontent.com&redirect_uri=urn%3Aietf%3Awg%3Aoauth%3A2.0%3Aoob&scope=email%20https%3A%2F%2Fwww.googleapis.com%2Fauth%2Fdocs.test%20https%3A%2F%2Fwww.googleapis.com%2Fauth%2Fdrive%20https%3A%2F%2Fwww.googleapis.com%2Fauth%2Fdrive.photos.readonly%20https%3A%2F%2Fwww.googleapis.com%2Fauth%2Fpeopleapi.readonly&response_type=code\n",
            "\n",
            "Enter your authorization code:\n",
            "··········\n",
            "Mounted at /content/drive\n"
          ],
          "name": "stdout"
        }
      ]
    },
    {
      "cell_type": "code",
      "metadata": {
        "id": "Mhc6i7qbeXzg",
        "colab_type": "code",
        "colab": {
          "base_uri": "https://localhost:8080/",
          "height": 34
        },
        "outputId": "3b878efe-1a92-4da7-c934-75dfcd5505a7"
      },
      "source": [
        "# importar librerias necesarias\n",
        "\n",
        "import numpy as np\n",
        "import matplotlib.pyplot as plt\n",
        "import cv2\n",
        "import os\n",
        "\n",
        "path= '/content/drive/My Drive/SEMESTRE 7/DIGITAL IMAGE PROCESSING'\n",
        "os.chdir(path)\n",
        "!pwd\n",
        "\n",
        "## graficar imagenes estáticas en el notebook\n",
        "%matplotlib inline"
      ],
      "execution_count": 3,
      "outputs": [
        {
          "output_type": "stream",
          "text": [
            "/content/drive/My Drive/SEMESTRE 7/DIGITAL IMAGE PROCESSING\n"
          ],
          "name": "stdout"
        }
      ]
    },
    {
      "cell_type": "code",
      "metadata": {
        "id": "Vu2xsPKfgUGy",
        "colab_type": "code",
        "colab": {}
      },
      "source": [
        "def displayGray3(a, b, c, title1=\"Original\", title2=\"Edited\", title3=\"Edited\"):\n",
        "    plt.figure(figsize=(3,3))\n",
        "    \n",
        "    plt.subplot(131), plt.imshow(a, cmap='gray'), plt.title(title1)\n",
        "    plt.xticks([]), plt.yticks([])\n",
        "    \n",
        "    plt.subplot(132), plt.imshow(b,  cmap='gray'), plt.title(title2)\n",
        "    plt.xticks([]), plt.yticks([])\n",
        "    \n",
        "    plt.subplot(133), plt.imshow(c,  cmap='gray'), plt.title(title3)\n",
        "    plt.xticks([]), plt.yticks([])\n",
        "    \n",
        "    plt.show()\n",
        "    \n",
        "def displayGray2(a, b, title1=\"Original\", title2=\"Edited\"):\n",
        "    plt.figure(figsize=(10,10))\n",
        "    \n",
        "    plt.subplot(121), plt.imshow(a, cmap='gray'), plt.title(title1)\n",
        "    plt.xticks([]), plt.yticks([])\n",
        "    \n",
        "    plt.subplot(122), plt.imshow(b,  cmap='gray'), plt.title(title2)\n",
        "    plt.xticks([]), plt.yticks([])\n",
        "    \n",
        "    plt.show()\n",
        "    \n",
        "def displayColor3(a, b, c, title1=\"Original\", title2=\"Edited\", title3=\"Edited\"):\n",
        "    plt.figure(figsize=(10,10))\n",
        "    \n",
        "    plt.subplot(131), plt.imshow(a), plt.title(title1)\n",
        "    plt.xticks([]), plt.yticks([])\n",
        "    \n",
        "    plt.subplot(132), plt.imshow(b), plt.title(title2)\n",
        "    plt.xticks([]), plt.yticks([])\n",
        "    \n",
        "    plt.subplot(133), plt.imshow(c), plt.title(title3)\n",
        "    plt.xticks([]), plt.yticks([])\n",
        "    \n",
        "    plt.show()\n",
        "    \n",
        "def displayColor2(a, b, title1=\"Original\", title2=\"Edited\"):\n",
        "    plt.figure(figsize=(10,10))\n",
        "    \n",
        "    plt.subplot(121), plt.imshow(a), plt.title(title1)\n",
        "    plt.xticks([]), plt.yticks([])\n",
        "    \n",
        "    plt.subplot(122), plt.imshow(b), plt.title(title2)\n",
        "    plt.xticks([]), plt.yticks([])\n",
        "    \n",
        "    plt.show()\n",
        "    \n",
        "def readRGB(imgPath):\n",
        "    img = cv2.imread(imgPath)\n",
        "    img = cv2.cvtColor(img, cv2.COLOR_BGR2RGB)\n",
        "    return img"
      ],
      "execution_count": 0,
      "outputs": []
    },
    {
      "cell_type": "markdown",
      "metadata": {
        "id": "XDo0mlsCjKJn",
        "colab_type": "text"
      },
      "source": [
        "# **Interpolación Nearest Neighbor**"
      ]
    },
    {
      "cell_type": "code",
      "metadata": {
        "id": "dlPl1R7JjSoP",
        "colab_type": "code",
        "colab": {
          "base_uri": "https://localhost:8080/",
          "height": 329
        },
        "outputId": "76c7c2b7-6a41-462a-8ff2-654bc01584e8"
      },
      "source": [
        "imgA = readRGB('apple20x22.jpg')\n",
        "imgM= readRGB('ico.jpg')\n",
        "near_imgA = cv2.resize(imgA, None, fx = 5, fy = 5, interpolation = cv2.INTER_NEAREST)\n",
        "near_imgM = cv2.resize(imgM, None, fx = 5, fy = 5, interpolation = cv2.INTER_NEAREST)\n",
        "displayColor2(near_imgA, near_imgM, 'Apple', 'Leia')"
      ],
      "execution_count": 8,
      "outputs": [
        {
          "output_type": "display_data",
          "data": {
            "image/png": "[encoded data removed]",
            "text/plain": [
              "<Figure size 720x720 with 2 Axes>"
            ]
          },
          "metadata": {
            "tags": []
          }
        }
      ]
    }
  ]
}